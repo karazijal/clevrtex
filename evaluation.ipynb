{
 "cells": [
  {
   "cell_type": "code",
   "execution_count": null,
   "id": "c0feb895",
   "metadata": {},
   "outputs": [],
   "source": [
    "from ool.clevrtex_eval import CLEVRTEX, collate_fn\n",
    "data = CLEVRTEX('~/ool_data/', dataset_variant='full', split='test')"
   ]
  },
  {
   "cell_type": "code",
   "execution_count": null,
   "id": "78b9613d",
   "metadata": {},
   "outputs": [],
   "source": [
    "import torch\n",
    "device= torch.device('cuda:0')"
   ]
  },
  {
   "cell_type": "code",
   "execution_count": null,
   "id": "7ef27d55",
   "metadata": {
    "scrolled": true
   },
   "outputs": [],
   "source": [
    "import numpy as np\n",
    "from pprint import pprint\n",
    "from matplotlib import pyplot as plt"
   ]
  },
  {
   "cell_type": "code",
   "execution_count": null,
   "id": "867c56ca",
   "metadata": {},
   "outputs": [],
   "source": [
    "from ool.clevrtex_eval import CLEVRTEX_Evaluator"
   ]
  },
  {
   "cell_type": "code",
   "execution_count": null,
   "id": "bb2e4409",
   "metadata": {},
   "outputs": [],
   "source": [
    "import pytorch_lightning as pl\n",
    "import torch\n",
    "import sys\n",
    "sys.path.insert(0, '~/experiments')\n",
    "from pathlib import Path\n",
    "import gc\n",
    "\n",
    "from tqdm.auto import tqdm\n",
    "import warnings\n",
    "\n",
    "\n",
    "def array(key, *res):\n",
    "    return np.array([r.statistic(key) for r in res])\n",
    "\n",
    "@torch.no_grad()\n",
    "def evaluate_checkpoint(cls, ckpt, data, bg=True, step=False, key='steps', last=False, half_batch=False):\n",
    "    ref_path = Path('output')\n",
    "    ckpt = Path(ckpt)\n",
    "    model = cls.load_from_checkpoint(checkpoint_path=ckpt)\n",
    "    log_path = ckpt.relative_to(ref_path).parent\n",
    "    model.nowatermark=True\n",
    "    model.ddp = False\n",
    "    model.gc=-1\n",
    "    model.cpu_metrics=False\n",
    "    model.workers=8\n",
    "    model.drop_last_batch = False\n",
    "    model.eval()\n",
    "\n",
    "    global_step = model.global_step\n",
    "    model.trainer = None\n",
    "    evl = CLEVRTEX_Evaluator(masks_have_background=bg)\n",
    "    bs = model.hparams.batch_size\n",
    "    \n",
    "    if half_batch:\n",
    "        bs = bs // 2\n",
    "    dl = torch.utils.data.DataLoader(data, batch_size=bs, shuffle=False, collate_fn=collate_fn, drop_last=last, num_workers=8)\n",
    "    m = model.model\n",
    "    del model\n",
    "    model = m.eval().to(device)\n",
    "    gc.collect()\n",
    "    for batch in tqdm(dl):\n",
    "        ind, img, mask, meta = batch\n",
    "        img = img.to(device)\n",
    "        mask = mask.to(device)\n",
    "        if step:\n",
    "            out = model(img, global_step)\n",
    "        else:\n",
    "            out = model(img)\n",
    "        evl.update(out['canvas'], out[key]['mask'], img, mask, meta)\n",
    "    del model\n",
    "    return evl\n",
    "\n",
    "def print_res(res):\n",
    "    acc = array('acc', *res)\n",
    "    ari = array('ARI', *res)\n",
    "    iou = array('mIoU_fg', *res)\n",
    "    ari_fg = array('ARI_FG', *res)\n",
    "    mse = array('MSE', *res)\n",
    "    print('& acc & ari & arr_fg & miou & mse \\\\\\\\')\n",
    "    print(f'& {acc.mean():6.5f} & {ari.mean():6.5f} & {ari_fg.mean():6.5f} & {iou.mean():6.5f} & {mse.mean():6.5f} \\\\\\\\')\n",
    "    if len(res) > 1:\n",
    "        print(f'& \\\\tiny \\\\(\\\\pm {acc.std():6.5f}\\\\) & \\\\tiny \\\\(\\\\pm {ari.std():6.5f}\\\\) & \\\\tiny \\\\(\\\\pm {ari_fg.std():6.5f}\\\\) & \\\\tiny \\\\(\\\\pm {iou.std():6.5f}\\\\) & \\\\tiny \\\\(\\\\pm {mse.std():6.5f}\\\\) \\\\\\\\')"
   ]
  },
  {
   "cell_type": "markdown",
   "id": "0ecfc292",
   "metadata": {},
   "source": [
    "### Evaluate several trained models\n",
    "\n",
    "The res contains a set of CLEVRTEX_Evaluator objects that can be futher inspected to see the breakdown"
   ]
  },
  {
   "cell_type": "code",
   "execution_count": null,
   "id": "2945bf97",
   "metadata": {},
   "outputs": [],
   "source": [
    "from gnm import LitGNM\n",
    "prefix = 'output/'\n",
    "model = '/checkpoints/last.ckpt'\n",
    "runs = [\n",
    "    prefix + 'clt_fullcm/gnm/gnm-on-clevrtex' + model,  # Change this to a checkpoint of interest\n",
    "]\n",
    "\n",
    "with warnings.catch_warnings():\n",
    "    warnings.filterwarnings('ignore',\n",
    "                            message='The default behavior for interpolate/upsample with float scale_factor changed in 1.6.0 to align with other frameworks/libraries, and now uses scale_factor directly, instead of relying on the computed output size. If you wish to restore the old behavior, please set recompute_scale_factor=True. See the documentation of nn.Upsample for details.')\n",
    "    warnings.filterwarnings('ignore',\n",
    "                            message='Default grid_sample and affine_grid behavior has changed to align_corners=False since 1.3.0. Please specify align_corners=True if the old behavior is desired. See the documentation of grid_sample for details.')\n",
    "        \n",
    "    res = [\n",
    "        evaluate_checkpoint(LitGNM, r, data, bg=False, step=True, key='steps') for r in runs\n",
    "    ]\n",
    "print_res(res)"
   ]
  },
  {
   "cell_type": "code",
   "execution_count": null,
   "id": "532c4e0e",
   "metadata": {},
   "outputs": [],
   "source": [
    "from space import LitSPACE\n",
    "runs = []\n",
    "with warnings.catch_warnings():\n",
    "    warnings.filterwarnings('ignore',\n",
    "                            message='The default behavior for interpolate/upsample with float scale_factor changed in 1.6.0 to align with other frameworks/libraries, and now uses scale_factor directly, instead of relying on the computed output size. If you wish to restore the old behavior, please set recompute_scale_factor=True. See the documentation of nn.Upsample for details.')\n",
    "    warnings.filterwarnings('ignore',\n",
    "                            message='Default grid_sample and affine_grid behavior has changed to align_corners=False since 1.3.0. Please specify align_corners=True if the old behavior is desired. See the documentation of grid_sample for details.')\n",
    "        \n",
    "    res = [\n",
    "        evaluate_checkpoint(LitSPACE, r, data, bg=False, step=True, key='steps') for r in runs\n",
    "    ]\n",
    "print_res(res)"
   ]
  },
  {
   "cell_type": "code",
   "execution_count": null,
   "id": "9b6908f6",
   "metadata": {},
   "outputs": [],
   "source": [
    "from genesisv2 import LitGenesis\n",
    "runs = []\n",
    "with warnings.catch_warnings():\n",
    "    warnings.filterwarnings('ignore',\n",
    "                            message='The default behavior for interpolate/upsample with float scale_factor changed in 1.6.0 to align with other frameworks/libraries, and now uses scale_factor directly, instead of relying on the computed output size. If you wish to restore the old behavior, please set recompute_scale_factor=True. See the documentation of nn.Upsample for details.')\n",
    "    warnings.filterwarnings('ignore',\n",
    "                            message='Default grid_sample and affine_grid behavior has changed to align_corners=False since 1.3.0. Please specify align_corners=True if the old behavior is desired. See the documentation of grid_sample for details.')\n",
    "        \n",
    "    res = [\n",
    "        evaluate_checkpoint(LitGenesis, r, data, bg=True, step=False, key='layers') for r in runs\n",
    "    ]\n",
    "print_res(res)"
   ]
  },
  {
   "cell_type": "code",
   "execution_count": null,
   "id": "d01290ac",
   "metadata": {},
   "outputs": [],
   "source": [
    "from spair import LitSpair\n",
    "\n",
    "with warnings.catch_warnings():\n",
    "    warnings.filterwarnings('ignore',\n",
    "                            message='The default behavior for interpolate/upsample with float scale_factor changed in 1.6.0 to align with other frameworks/libraries, and now uses scale_factor directly, instead of relying on the computed output size. If you wish to restore the old behavior, please set recompute_scale_factor=True. See the documentation of nn.Upsample for details.')\n",
    "    warnings.filterwarnings('ignore',\n",
    "                            message='Default grid_sample and affine_grid behavior has changed to align_corners=False since 1.3.0. Please specify align_corners=True if the old behavior is desired. See the documentation of grid_sample for details.')\n",
    "        \n",
    "    res = [\n",
    "        evaluate_checkpoint(LitSpair, r, data, bg=False, step=False, key='steps') for r in runs\n",
    "    ]\n",
    "    \n",
    "print_res(res)"
   ]
  },
  {
   "cell_type": "code",
   "execution_count": null,
   "id": "0836214c",
   "metadata": {},
   "outputs": [],
   "source": [
    "from slota import LitSlot\n",
    "import warnings\n",
    "\n",
    "with warnings.catch_warnings():\n",
    "    warnings.filterwarnings('ignore',\n",
    "                            message='The default behavior for interpolate/upsample with float scale_factor changed in 1.6.0 to align with other frameworks/libraries, and now uses scale_factor directly, instead of relying on the computed output size. If you wish to restore the old behavior, please set recompute_scale_factor=True. See the documentation of nn.Upsample for details.')\n",
    "    warnings.filterwarnings('ignore',\n",
    "                            message='Default grid_sample and affine_grid behavior has changed to align_corners=False since 1.3.0. Please specify align_corners=True if the old behavior is desired. See the documentation of grid_sample for details.')\n",
    "        \n",
    "    res = [\n",
    "        evaluate_checkpoint(LitSlot, r, data, bg=True, step=False, key='layers') for r in runs\n",
    "    ]\n",
    "    \n",
    "print_res(res)"
   ]
  },
  {
   "cell_type": "code",
   "execution_count": null,
   "id": "4177db94",
   "metadata": {},
   "outputs": [],
   "source": []
  },
  {
   "cell_type": "code",
   "execution_count": null,
   "id": "874a339d",
   "metadata": {},
   "outputs": [],
   "source": []
  }
 ],
 "metadata": {
  "kernelspec": {
   "display_name": "Python 3",
   "language": "python",
   "name": "python3"
  },
  "language_info": {
   "codemirror_mode": {
    "name": "ipython",
    "version": 3
   },
   "file_extension": ".py",
   "mimetype": "text/x-python",
   "name": "python",
   "nbconvert_exporter": "python",
   "pygments_lexer": "ipython3",
   "version": "3.8.8"
  }
 },
 "nbformat": 4,
 "nbformat_minor": 5
}
